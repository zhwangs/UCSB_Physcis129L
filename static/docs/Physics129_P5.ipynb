{
 "cells": [
  {
   "cell_type": "markdown",
   "id": "461bb66f",
   "metadata": {},
   "source": [
    "<div style=\"text-align: center;\">\n",
    "    <h1><strong>Physics 129L: Problem Set 5</strong></h1>\n",
    "</div>"
   ]
  },
  {
   "cell_type": "markdown",
   "id": "8db292cd",
   "metadata": {},
   "source": [
    "<div style=\"text-align: center;\">\n",
    "    <h3><strong>Problem Set Submission Guideline</strong></h3>\n",
    "</div>\n",
    "\n",
    "**A) Github Submissions**\n",
    "We will use GitHub for problem set submissions. To access the problem set, please **fork** and **clone** the **forked** repository to your local virtual machine. **Please complete the problem set in this forked directory.** Submit **a pull request** for merging into the main branch before the problem set due date.\n",
    "\n",
    "**B) .tar.gz File compression and submission on Github**\n",
    "For each problem set, you are asked to submit the compressed version of the problem set to GitHub via git operation. Here is a step-by-step guideline:\n",
    "\n",
    "1. Use the **tar** command to compress the problem set directory into a **single** \".tar.gz\" file.\n",
    "2. Obtain the sha256sum by running \"sha256sum P2.tar.gz\".\n",
    "3. Echo the **full sha256sum** to a text file named \"sha25sum_problem_set.txt\".\n",
    "4. Initialize a git repository named \"Archive_P# (#: problem set number) on your local machine, and move both the \"tar.gz\" file and the \"sha25sum_problem_set.txt\" file to the repository.\n",
    "5. Create an empty **public** directory under the **same name** in **your own GitHub account**.\n",
    "6. **Push** this local repository to the remote repository.\n"
   ]
  },
  {
   "cell_type": "markdown",
   "id": "ba7da1e9",
   "metadata": {},
   "source": [
    "<div style=\"text-align: center;\">\n",
    "    <h3><strong>Imports and built-in functions</strong></h3>\n",
    "</div>"
   ]
  },
  {
   "cell_type": "code",
   "execution_count": null,
   "id": "773c4273",
   "metadata": {},
   "outputs": [],
   "source": [
    "import numpy as np\n",
    "#Import in-built functions for different integration techniques\n",
    "#For reference: https://docs.scipy.org/doc/scipy/reference/integrate.html\n",
    "from scipy.integrate import quad, fixed_quad, romberg, dblquad\n",
    "#For plotting\n",
    "import matplotlib.pyplot as plt\n",
    "%matplotlib inline"
   ]
  },
  {
   "attachments": {},
   "cell_type": "markdown",
   "id": "40607247",
   "metadata": {},
   "source": [
    "<div style=\"text-align: center;\">\n",
    "    <h2><strong>Problem 1: Quadrature </strong></h2>\n",
    "</div>\n",
    "Let's looked at different quadrature methods and rules. \n",
    "\n",
    "\n",
    "<div style=\"text-align: center;\">\n",
    "    <h2><strong> Midpoint rule </strong></h2>\n",
    "</div>\n",
    "$$\\int_{a}^{b} f(x) \\, dx \\approx (b - a) \\cdot f\\left(\\frac{a + b}{2}\\right)\n",
    "$$\n",
    "\n",
    "<div style=\"text-align: center;\">\n",
    "    <h2><strong> Trapezoidal Rule  </strong></h2>\n",
    "</div>\n",
    "\n",
    "$$\\int_{a}^{b} f(x) \\, dx \\approx \\frac{b - a}{2} \\left[ f(a) + f(b) \\right]$$\n",
    "\n",
    "<div style=\"text-align: center;\">\n",
    "    <h2><strong> Simpson's Rule </strong></h2>\n",
    "</div>\n",
    "$$\\int_{a}^{b} f(x) \\, dx \\approx \\frac{b - a}{3} \\left[ f(a) + 4f\\left(\\frac{a + b}{2}\\right) + f(b) \\right]$$\n"
   ]
  },
  {
   "cell_type": "markdown",
   "id": "f0dfe677",
   "metadata": {},
   "source": [
    "## A) \n",
    "Define a class for all quadrature techniques."
   ]
  },
  {
   "cell_type": "code",
   "execution_count": null,
   "id": "580ec43e",
   "metadata": {},
   "outputs": [],
   "source": [
    "class Quad_:\n",
    "    def __init__(self,fuc,N,a,b):\n",
    "        '''The class Quad tkaes four inputs: \n",
    "         fuc: a function input,\n",
    "         N: number of grid points,\n",
    "         a,b: left and right points'''\n",
    "        pass \n",
    "    "
   ]
  },
  {
   "cell_type": "markdown",
   "id": "6358ed18",
   "metadata": {},
   "source": [
    "## B) \n",
    "Write the above three quadrature rules as class methods **without any pre-defined function from any package** 1)  Midpoint rule 2) Trapezoidal Rule 3) Simpson's Rule. You need to figure out what additional inputs each rule needs. "
   ]
  },
  {
   "cell_type": "code",
   "execution_count": null,
   "id": "879242fb",
   "metadata": {},
   "outputs": [],
   "source": [
    "# Add the following to the class in part A). \n",
    "def mid_quad(self,...):\n",
    "    pass\n",
    "def trapz_quad(self,...):\n",
    "    pass\n",
    "def simpson_quad(self,...):\n",
    "    pass\n",
    "\n"
   ]
  },
  {
   "cell_type": "markdown",
   "id": "1a39868e",
   "metadata": {},
   "source": [
    "<div style=\"text-align: center;\">\n",
    "    <h3><strong> Gauss-Legendre Quadrature </strong></h3>\n",
    "</div>\n",
    "\n",
    "$$\\int_{-1}^{1} f(x) \\, dx \\approx \\sum_{i=1}^{N} w_i \\cdot f(x_i)$$\n"
   ]
  },
  {
   "cell_type": "markdown",
   "id": "16b57c68",
   "metadata": {},
   "source": [
    "## C)\n",
    "Since the range is from a to b, let's make a variable change,\n",
    "$$x_i \\to \\frac{b - a}{2} x_i + \\frac{a + b}{2}$$\n",
    "\n",
    "Calculate the above condition **analytically**,\n",
    "<br> \n",
    "''**write you answer below**''\n",
    "<br><br> **Steps:** <br>\n",
    "<br>\n",
    "'' **write you answer above**''\n",
    "<br> <br> \n",
    "You should get something like this: \n",
    "$$\\int_{a}^b f(x)dx = \\frac{b-a}{2} \\sum_i w_i f(\\frac{b - a}{2} x_i + \\frac{a + b}{2})$$"
   ]
  },
  {
   "cell_type": "markdown",
   "id": "bba288ba",
   "metadata": {},
   "source": [
    "<div style=\"text-align: center;\">\n",
    "    <h3><strong> Legendre polynomials </strong></h3>\n",
    "</div>\n",
    "To find the position and weights of an order M Gauss-Legendre Quadrature, we need to calculate the roots of an order-M Legendre polynomial,\n",
    "$$(1 - x^2) \\frac{d^2 P_M(x)}{dx^2} - 2x \\frac{dP_M(x)}{dx} + M(M + 1)P_M(x) = 0,\n",
    "$$\n",
    "and the solutions are given by the following:  \n",
    "$$P_M(x) = \\frac{1}{2^n n!} \\frac{d^M}{dx^M} \\left[(x^2 - 1)^M\\right]$$"
   ]
  },
  {
   "cell_type": "markdown",
   "id": "5769e75c",
   "metadata": {},
   "source": [
    "## D)\n",
    "Write a child class named Gauss_Quad_ inherits methods from its parent class Quad_. This class takes an additional input, called order. Define a new method that outputs an order-M Legendre polynomial. Plot the following Legendre polynomials: M=[1,2,3,4,5]. "
   ]
  },
  {
   "cell_type": "code",
   "execution_count": null,
   "id": "3cf2dc63",
   "metadata": {},
   "outputs": [],
   "source": [
    "class Gauss_Quad_:\n",
    "    def __init__(self,order):\n",
    "        '''The class take an additional input, called order. \n",
    "        make sure you look into super(). '''\n",
    "        pass \n",
    "    def legendre_poly(self,x):\n",
    "        # range from -1 to 1\n",
    "        pass\n",
    "       "
   ]
  },
  {
   "cell_type": "markdown",
   "id": "8f0bea5b",
   "metadata": {},
   "source": [
    "<div style=\"text-align: center;\">\n",
    "    <h3><strong> Newton's Method </strong></h3>\n",
    "</div>\n",
    "The positions of an order M Gauss-Legendre Quadrature are calculated by finding roots of an order-M Legendre polynomial,\n",
    " <br>  <br> \n",
    "$$P_M(x)=0.$$\n",
    " <br> \n",
    "To numerically find those roots (M of them), we can use the Newton's method: \n",
    " <br> \n",
    "$$x_{n+1} = x_{n} - \\frac{P_M(x_{n})}{P_M'(x_{n})}.$$\n",
    "You should be careful on the initial guess.\n",
    " <br> \n",
    "The weights $w_i$ for Gauss-Legendre Quadrature are calculated as:\n",
    "$$w_i = \\frac{2}{(1 - x_i^2) [P'_M(x_i)]^2}$$\n",
    "where $P'_M(x_i)$ is the derivative of the Legendre polynomial of degree M evaluated at each root $x_i$. "
   ]
  },
  {
   "cell_type": "markdown",
   "id": "3c49d271",
   "metadata": {},
   "source": [
    "## E) \n",
    " Calculate 'M' position and weights for Gaussian quadrature integration between 'a' and 'b' with the Newton's method. Returns a tuple of 2 arrays, the first array is the position of points and second array is the corresponding weights. Output an text file that contains the roots and weights for M=[1,2,3,4,5]. "
   ]
  },
  {
   "cell_type": "code",
   "execution_count": null,
   "id": "fbce233e",
   "metadata": {},
   "outputs": [],
   "source": [
    "# Add the following to the class in part D). \n",
    "def newton_method_root(self,...):\n",
    "\n",
    "    return root,weights\n"
   ]
  },
  {
   "cell_type": "markdown",
   "id": "954b3562",
   "metadata": {},
   "source": [
    "## F) \n",
    "Using the the following information,\n",
    "https://docs.scipy.org/doc/scipy/reference/generated/scipy.special.roots_legendre.html\n",
    ", calculate the roots and weights for M=[1,2,3,4,5]. Do they agree with what you calculate in E)?  "
   ]
  },
  {
   "cell_type": "code",
   "execution_count": null,
   "id": "93636d3a",
   "metadata": {},
   "outputs": [],
   "source": [
    "# Add the following to the class in part D). \n",
    "from scipy.special import roots_legendre \n",
    "def scipy_method_root(self,...):\n",
    "\n",
    "    return root,weights\n",
    "\n"
   ]
  },
  {
   "cell_type": "markdown",
   "id": "51ed9d1e",
   "metadata": {},
   "source": [
    "## G)\n",
    "Based on the roots and weights, write a method that output the Gauss-Legendre Quadrature. "
   ]
  },
  {
   "cell_type": "code",
   "execution_count": null,
   "id": "65398b6c",
   "metadata": {},
   "outputs": [],
   "source": [
    "# Add the following to the class in part D).\n",
    "def gauss_quad(self,...):\n",
    "    pass \n"
   ]
  },
  {
   "attachments": {},
   "cell_type": "markdown",
   "id": "d2e40a2c",
   "metadata": {},
   "source": [
    "<div style=\"text-align: center;\">\n",
    "    <h3><strong> Quadrature on test functions </strong></h3>\n",
    "</div>\n",
    "\n",
    "In the following question, we want to Use the above four methods, mid_quad, trapz_quad, simpson_quad, gauss_quad, to numerically calculate the quarature on two test functions ($k\\geq 0)$\n",
    "\n",
    "A general k-th order polynomial with a quadrature, \n",
    "$$I^{\\rm T=A}_{\\rm true}=\\int_{a}^b dx x^k=\\frac{1}{k+1}(b^{k+1}-a^{k+1})$$\n",
    "\n",
    "A Fermi–Dirac distribution with a quadrature, \n",
    "$$I^{\\rm T=B}_{\\rm true}=\\int_{a}^b dx \\frac{1}{{1 + e^{-kx}}}=\\frac{1}{k}(\\log(e^{kb}+1)-\\log(e^{ka}+1))$$\n",
    "\n",
    "\n",
    "Let's define the following: for each order k and N, we have the quadrature value and the relative error,\n",
    "1) mid_quad: $M(k,N)$,<br><br> $\\Delta M(k,N)=2\\frac{I_{\\rm true}-M(k,N)}{I_{\\rm true}+M(k,N)}$,\n",
    "<br><br><br>\n",
    "2) trapz_quad: $T(k,N)$,<br><br> $\\Delta T(k,N)=2\\frac{I_{\\rm true}-T(k,N)}{I_{\\rm true}+T(k,N)}$,\n",
    "<br><br><br>\n",
    "3) simpson_quad: $S(k,N)$,<br><br> $\\Delta S(k,N)=2\\frac{I_{\\rm true}-S(k,N)}{I_{\\rm true}+S(k,N)}$,\n",
    "<br><br><br>\n",
    "4) gauss_quad: $G(k,N)$,<br><br> $\\Delta G(k,N)=2\\frac{I_{\\rm true}-G(k,N)}{I_{\\rm true}+G(k,N)}$,\n",
    "\n",
    "Let's make the following heatmap for each quadrature method above, 1-4), over the range $[0,1]$: \n",
    "\n",
    "y-axis: k from 0 to 10\n",
    "\n",
    "x-axis: N from 10 to $10^5$\n",
    "\n",
    "value: relative error\n",
    "\n",
    "\n"
   ]
  },
  {
   "cell_type": "markdown",
   "id": "0e52c04d",
   "metadata": {},
   "source": [
    "## H) Polynomial\n",
    "\n",
    "\n",
    "\n"
   ]
  },
  {
   "cell_type": "code",
   "execution_count": null,
   "id": "6745de26",
   "metadata": {},
   "outputs": [],
   "source": [
    "\n",
    "\n",
    "'''--------------------Write your code below this line------------------------------'''\n",
    "\n",
    "\n",
    "'''--------------------Write your code above this line------------------------------'''"
   ]
  },
  {
   "cell_type": "markdown",
   "id": "40bd757e",
   "metadata": {},
   "source": [
    "## H) Fermi–Dirac\n"
   ]
  },
  {
   "cell_type": "code",
   "execution_count": 3,
   "id": "1870eefb",
   "metadata": {},
   "outputs": [
    {
     "data": {
      "text/plain": [
       "'--------------------Write your code above this line------------------------------'"
      ]
     },
     "execution_count": 3,
     "metadata": {},
     "output_type": "execute_result"
    }
   ],
   "source": [
    "\n",
    "\n",
    "'''--------------------Write your code below this line------------------------------'''\n",
    "\n",
    "\n",
    "'''--------------------Write your code above this line------------------------------'''"
   ]
  },
  {
   "cell_type": "markdown",
   "id": "b03e4fdb",
   "metadata": {},
   "source": [
    "<div style=\"text-align: center;\">\n",
    "    <h2><strong> Harmonic Oscillator </strong></h2>\n",
    "</div>\n",
    "\n",
    "This question is adapted from Prof.Uros Seljak (Berkeley) problem set 1 question 1. For more information, please visit https://phy151-ucb.github.io/seljak-phy151-fall-2018/#course-syllabus\n",
    "\n",
    "\n",
    "The total energy of a harmonic oscillator is given by <br>\n",
    "$$ E = \\frac{1}{2}m \\left(\\frac{dx}{dt}\\right)^2 + V(x) $$\n",
    "Assuming that the potential $V(x)$ is symmetric about $x=0$ and the amplitude of the oscillator is $a$. Then the equation for the time period is given by <br>\n",
    "$$ T = \\sqrt{8m} \\int_0^a \\frac{dx}{\\sqrt{V(a) - V(x)}} $$\n"
   ]
  },
  {
   "cell_type": "markdown",
   "id": "6b41ebd0",
   "metadata": {},
   "source": [
    "## A)\n",
    "Suppose the potential is $V(x) = x^4$ and mass of the particle $m=1$, write a function that calculates the period for a given amplitude."
   ]
  },
  {
   "cell_type": "code",
   "execution_count": null,
   "id": "85605206",
   "metadata": {},
   "outputs": [],
   "source": [
    "def V(x):\n",
    "    'Potential'\n",
    "    \n",
    "    return ...\n",
    "\n",
    "def timep(x, a):\n",
    "    'Define the function that needs to be integrated (integrand) to calculate time period'\n",
    "    \n",
    "    return ...\n"
   ]
  },
  {
   "cell_type": "markdown",
   "id": "15de39f8",
   "metadata": {},
   "source": [
    "## B) \n",
    "Let $a = 2$. Use inbuilt 'fixed_quad' (https://docs.scipy.org/doc/scipy-0.14.0/reference/generated/scipy.integrate.fixed_quad.html) function to calculate the time period for different values of 'N' (number of integration points). Calculate the error in the integral by estimating the difference for 'N' & '2N'. Approximately, at what 'N' is the absolute error less than $10^{-4}$ for 'a = 2'?"
   ]
  },
  {
   "cell_type": "code",
   "execution_count": null,
   "id": "1c01c52f",
   "metadata": {},
   "outputs": [],
   "source": [
    "\n",
    "\n",
    "'''--------------------Write your code below this line------------------------------'''\n",
    "\n",
    "\n",
    "'''--------------------Write your code above this line------------------------------'''"
   ]
  },
  {
   "cell_type": "markdown",
   "id": "6ace5f54",
   "metadata": {},
   "source": [
    "## C) \n",
    "Use inbuilt 'quad' (https://docs.scipy.org/doc/scipy/reference/generated/scipy.integrate.quad.html) function that returns an error estimate and compare your answer for 'a = 2' (quad uses a more advanced integration technique)"
   ]
  },
  {
   "cell_type": "code",
   "execution_count": null,
   "id": "d6a6b7a1",
   "metadata": {},
   "outputs": [],
   "source": [
    "\n",
    "\n",
    "'''--------------------Write your code below this line------------------------------'''\n",
    "\n",
    "\n",
    "'''--------------------Write your code above this line------------------------------'''"
   ]
  },
  {
   "cell_type": "markdown",
   "id": "8d98f6a0",
   "metadata": {},
   "source": [
    " ## D) \n",
    "Calculate the time period by using the inbuilt romberg function (https://docs.scipy.org/doc/scipy/reference/generated/scipy.integrate.romberg.html) for Romberg integration. \n",
    "A simplistic usage with romberg(func, 0, a), where a is the amplitude, will probably give error or 'nan'. Why? "
   ]
  },
  {
   "cell_type": "code",
   "execution_count": 4,
   "id": "ddd1c63e",
   "metadata": {},
   "outputs": [
    {
     "data": {
      "text/plain": [
       "'--------------------Write your code above this line------------------------------'"
      ]
     },
     "execution_count": 4,
     "metadata": {},
     "output_type": "execute_result"
    }
   ],
   "source": [
    "\n",
    "\n",
    "'''--------------------Write your code below this line------------------------------'''\n",
    "\n",
    "\n",
    "'''--------------------Write your code above this line------------------------------'''"
   ]
  },
  {
   "cell_type": "markdown",
   "id": "b53e030b",
   "metadata": {},
   "source": [
    "## E) \n",
    "Assume that we can tolerate the uncertainitiy of $10^{-5}$ in the position. Show and output of 'keyword' show = True for 'a = 2'. Use this to estimate error for divmax = 10.\n"
   ]
  },
  {
   "cell_type": "code",
   "execution_count": 5,
   "id": "401a8191",
   "metadata": {},
   "outputs": [
    {
     "data": {
      "text/plain": [
       "'--------------------Write your code above this line------------------------------'"
      ]
     },
     "execution_count": 5,
     "metadata": {},
     "output_type": "execute_result"
    }
   ],
   "source": [
    "\n",
    "\n",
    "'''--------------------Write your code below this line------------------------------'''\n",
    "\n",
    "\n",
    "'''--------------------Write your code above this line------------------------------'''"
   ]
  },
  {
   "cell_type": "markdown",
   "id": "8b024f9c",
   "metadata": {},
   "source": [
    "## F)\n",
    " Change divmax to change the number of divisions. How does the accuracy change on going from 10 to 15 divisions."
   ]
  },
  {
   "cell_type": "code",
   "execution_count": 6,
   "id": "5fbd5749",
   "metadata": {},
   "outputs": [
    {
     "data": {
      "text/plain": [
       "'--------------------Write your code above this line------------------------------'"
      ]
     },
     "execution_count": 6,
     "metadata": {},
     "output_type": "execute_result"
    }
   ],
   "source": [
    "\n",
    "\n",
    "'''--------------------Write your code below this line------------------------------'''\n",
    "\n",
    "\n",
    "'''--------------------Write your code above this line------------------------------'''"
   ]
  },
  {
   "cell_type": "markdown",
   "id": "8c812bc6",
   "metadata": {},
   "source": [
    "## G) \n",
    "Use the function to make a graph of the period for amplitude ranging from a=0 to a=2."
   ]
  },
  {
   "cell_type": "code",
   "execution_count": 7,
   "id": "974e5d39",
   "metadata": {},
   "outputs": [
    {
     "data": {
      "text/plain": [
       "'--------------------Write your code above this line------------------------------'"
      ]
     },
     "execution_count": 7,
     "metadata": {},
     "output_type": "execute_result"
    }
   ],
   "source": [
    "\n",
    "\n",
    "'''--------------------Write your code below this line------------------------------'''\n",
    "\n",
    "\n",
    "'''--------------------Write your code above this line------------------------------'''"
   ]
  },
  {
   "cell_type": "markdown",
   "id": "e67c014c",
   "metadata": {},
   "source": [
    "<div style=\"text-align: center;\">\n",
    "    <h2><strong> Black Body Radiation </strong></h2>\n",
    "</div>\n",
    "\n",
    "This question is adapted from Prof.Uros Seljak (Berkeley) problem set 1 question 2. For more information, please visit https://phy151-ucb.github.io/seljak-phy151-fall-2018/#course-syllabus\n",
    "\n",
    "\n",
    "The total rate at which energy is radiated by a black body per unit area over all frequencies is \n",
    "\n",
    "$$ W = \\frac{2 \\pi k_B^4T^4}{c^2 {h}^3} \\int _0^\\infty \\frac{x^3}{e^x -1} dx $$\n"
   ]
  },
  {
   "cell_type": "markdown",
   "id": "504af1e3",
   "metadata": {},
   "source": [
    "## A) \n",
    "Write a function to to evaluate the integral in this expression. You will need to change the variables to go from an infinite range to a finite range. What is the change of variable and new functional form? The variable to go from range 0 to $\\infty$ to a finite range of is \n",
    "\n",
    "$$ z = \\frac{x}{1+x} $$\n",
    "or equivalently\n",
    "$$ x = \\frac{z}{1-z} $$\n"
   ]
  },
  {
   "cell_type": "code",
   "execution_count": 8,
   "id": "4678d4c8",
   "metadata": {},
   "outputs": [
    {
     "data": {
      "text/plain": [
       "'--------------------Write your code above this line------------------------------'"
      ]
     },
     "execution_count": 8,
     "metadata": {},
     "output_type": "execute_result"
    }
   ],
   "source": [
    "#Constants\n",
    "k = 1.38064852e-23 \n",
    "h = 6.626e-34\n",
    "pi= np.pi\n",
    "c = 3e8\n",
    "hb = h /2/pi\n",
    "prefactor = k**4/c**2/hb**3/4/pi**2 \n",
    "#True value\n",
    "stfconst = 5.670367e-8\n",
    "\n",
    "def blackbody_var(z):\n",
    "    'Blackbody spectrum after change of variables'\n",
    "    \n",
    "    return ..."
   ]
  },
  {
   "cell_type": "markdown",
   "id": "f6eb1cfb",
   "metadata": {},
   "source": [
    "## B) \n",
    "According to Stefan's law, the total energy given off by a black-body per unit area per second is given by \n",
    "$$ W = \\sigma T^4 $$. Use the integral to calculate the value of Stefan Boltzmann constant $\\sigma$. Use 'fixed_quad' function to do the integral.   \n"
   ]
  },
  {
   "cell_type": "code",
   "execution_count": null,
   "id": "81ebc5d3",
   "metadata": {},
   "outputs": [],
   "source": [
    "\n",
    "\n",
    "'''--------------------Write your code below this line------------------------------'''\n",
    "\n",
    "\n",
    "'''--------------------Write your code above this line------------------------------'''"
   ]
  },
  {
   "cell_type": "markdown",
   "id": "e33c4da7",
   "metadata": {},
   "source": [
    "## C) \n",
    "Inbuilt 'quad' function can support an infinite range for integration. Write another function to do the integration from 0 to $\\infty$ and compare your answer."
   ]
  },
  {
   "cell_type": "code",
   "execution_count": 9,
   "id": "1a1be68e",
   "metadata": {},
   "outputs": [
    {
     "data": {
      "text/plain": [
       "'--------------------Write your code above this line------------------------------'"
      ]
     },
     "execution_count": 9,
     "metadata": {},
     "output_type": "execute_result"
    }
   ],
   "source": [
    "\n",
    "\n",
    "'''--------------------Write your code below this line------------------------------'''\n",
    "\n",
    "\n",
    "'''--------------------Write your code above this line------------------------------'''"
   ]
  },
  {
   "attachments": {
    "elliptical_orbit.png": {
     "image/png": "[encoded data removed]"
    }
   },
   "cell_type": "markdown",
   "id": "94d5d239",
   "metadata": {},
   "source": [
    "<div style=\"text-align: center;\">\n",
    "    <h2><strong> Planetary Orbit Integration </strong></h2>\n",
    "</div>\n",
    "\n",
    "This question is adapted from Prof.Uros Seljak (Berkeley) problem set 1 question 4. For more information, please visit https://phy151-ucb.github.io/seljak-phy151-fall-2018/#course-syllabus\n",
    "\n",
    "\n",
    "One of the great achievements in the history of science was the discovery of the laws of J. Kepler, based on many precise measurements of the positions of Mars by Tycho Brahe and himself. The planets move in elliptic orbits with the sun at one of the foci (Kepler’s first law).\n",
    "\n",
    "Newton (Principia 1687) then explained this motion by his general law of gravitational attraction (proportional to $1/r^2$) and the relation between forces and acceleration. This then opened the way for treating arbitrary celestial motions by solving differential equations.\n",
    "\n",
    "\n",
    "![elliptical_orbit.png](attachment:elliptical_orbit.png)\n",
    "\n",
    "\n",
    "Consider the following two-body problem, wherein a single planet orbits around a large star. Stellar mass is much larger than planetary mass, so we choose the star as the center of our coordinate system. Now, consider the planet's two-dimensional elliptical orbit around the star. The position of the planet is given by the coordinates $q = (q_1, q_2)$, with the planet's velocity given by $p = \\dot{q}$.\n",
    "\n",
    "Newton's laws, with a suitable normalization, yield the following ordinary differential equations:\n",
    "\n",
    "$$ \\ddot{q_1} = -\\frac{q_1}{(q_1^2 + q_2^2)^{3/2}},\\ \\ \\ \\ddot{q_2} = -\\frac{q_2}{(q_1^2 + q_2^2)^{3/2}}. $$\n",
    "\n",
    "This is equivalent to a Hamiltonian system with the Hamiltonian:\n",
    "$$ H(p,q) = \\frac{1}{2}(p_1^2 + p_2^2) - \\frac{1}{\\sqrt{q_1^2 + q_2^2}} $$\n",
    "$$p_i = \\dot{q_i}$$\n",
    "\n",
    "We will consider the initial position and velocity of the planet to be:\n",
    "$$ q_1(0) = 1-e,\\ \\ \\ q_2(0) = 0,\\ \\ \\ \\dot{q_1}(0) = 0,\\ \\ \\ \\dot{q_2}(0) = \\sqrt{\\frac{1+e}{1-e}} $$\n",
    "\n",
    "Now determine $q$ as a function of time $t$.\n",
    "\n",
    "\n"
   ]
  },
  {
   "cell_type": "markdown",
   "id": "7f7f8f02",
   "metadata": {},
   "source": [
    "## A) \n",
    " Q1. Using 400000 steps, use the explicit Euler method (Let $f(q) = \\frac{dq}{dt}$. Then, $q(t+\\Delta t) = \\Delta t \\cdot f(q)$ for small $\\Delta t$) and plot the orbit of the planet. Assume $e = 0.6$ and integrate to a final time of $T_f = 200$.\n",
    " \n",
    " $$ q_{n+1} = q_n + \\Delta t \\cdot \\dot{q_n} $$\n",
    "$$ \\dot{q}_{n+1} = p_{n+1} = p_n + \\Delta t \\cdot \\dot{p_n} $$"
   ]
  },
  {
   "cell_type": "code",
   "execution_count": null,
   "id": "4098e53c",
   "metadata": {},
   "outputs": [],
   "source": [
    "\n",
    "\n",
    "'''--------------------Write your code below this line------------------------------'''\n",
    "\n",
    "\n",
    "'''--------------------Write your code above this line------------------------------'''"
   ]
  },
  {
   "cell_type": "markdown",
   "id": "83a7bbdc",
   "metadata": {},
   "source": [
    "## B) \n",
    "Using 400000 steps, use the symplectic Euler method. \n",
    "\n",
    "$$ p_{n+1} = p_n - \\Delta t H_q(p_{n+1}, q_n) $$\n",
    "$$ q_{n+1} = q_n + \\Delta t H_p(p_{n+1}, q_n) $$\n",
    "or\n",
    "$$ q_{n+1} = q_n + \\Delta t H_p(p_n, q_{n+1}) $$\n",
    "$$ p_{n+1} = p_n - \\Delta t H_p(p_n, q_{n+1}) $$\n",
    "where $H_p$ and $H_q$ denote the column vectors of partial derivatives of the Hamiltonian with respect to $p$ and $q$, respectively. i.e. $H_{p_1} = p_1, H_{q_1} = \\frac{q_1}{(q_1^2 + q_2^2)^{3/2}}, H_{p_2} = p_2, H_{q_2} = \\frac{q_2}{(q_1^2 + q_2^2)^{3/2}}$. \n",
    " \n",
    " \n",
    "Again plot the orbit of the planet. Compare your results in A) and B) by plotting both solutions in the same figure. "
   ]
  },
  {
   "cell_type": "code",
   "execution_count": 10,
   "id": "862a3fd2",
   "metadata": {},
   "outputs": [
    {
     "data": {
      "text/plain": [
       "'--------------------Write your code above this line------------------------------'"
      ]
     },
     "execution_count": 10,
     "metadata": {},
     "output_type": "execute_result"
    }
   ],
   "source": [
    "\n",
    "\n",
    "'''--------------------Write your code below this line------------------------------'''\n",
    "\n",
    "\n",
    "'''--------------------Write your code above this line------------------------------'''"
   ]
  },
  {
   "cell_type": "code",
   "execution_count": null,
   "id": "e4123b52",
   "metadata": {},
   "outputs": [],
   "source": []
  }
 ],
 "metadata": {
  "kernelspec": {
   "display_name": "Python 3 (ipykernel)",
   "language": "python",
   "name": "python3"
  },
  "language_info": {
   "codemirror_mode": {
    "name": "ipython",
    "version": 3
   },
   "file_extension": ".py",
   "mimetype": "text/x-python",
   "name": "python",
   "nbconvert_exporter": "python",
   "pygments_lexer": "ipython3",
   "version": "3.11.5"
  }
 },
 "nbformat": 4,
 "nbformat_minor": 5
}
