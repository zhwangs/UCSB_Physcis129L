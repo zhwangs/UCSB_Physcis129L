{
 "cells": [
  {
   "cell_type": "markdown",
   "id": "461bb66f",
   "metadata": {},
   "source": [
    "<div style=\"text-align: center;\">\n",
    "    <h1><strong>Physics 129L: Problem Set 6</strong></h1>\n",
    "</div>"
   ]
  },
  {
   "cell_type": "markdown",
   "id": "8db292cd",
   "metadata": {},
   "source": [
    "<div style=\"text-align: center;\">\n",
    "    <h3><strong>Problem Set Submission Guideline</strong></h3>\n",
    "</div>\n",
    "\n",
    "**A) Github Submissions**\n",
    "We will use GitHub for problem set submissions. To access the problem set, please **fork** and **clone** the **forked** repository to your local virtual machine. **Please complete the problem set in this forked directory.** Submit **a pull request** for merging into the main branch before the problem set due date.\n",
    "\n",
    "**B) .tar.gz File compression and submission on Github**\n",
    "For each problem set, you are asked to submit the compressed version of the problem set to GitHub via git operation. Here is a step-by-step guideline:\n",
    "\n",
    "1. Use the **tar** command to compress the problem set directory into a **single** \".tar.gz\" file.\n",
    "2. Obtain the sha256sum by running \"sha256sum P2.tar.gz\".\n",
    "3. Echo the **full sha256sum** to a text file named \"sha25sum_problem_set.txt\".\n",
    "4. Initialize a git repository named \"Archive_P# (#: problem set number) on your local machine, and move both the \"tar.gz\" file and the \"sha25sum_problem_set.txt\" file to the repository.\n",
    "5. Create an empty **public** directory under the **same name** in **your own GitHub account**.\n",
    "6. **Push** this local repository to the remote repository.\n"
   ]
  },
  {
   "cell_type": "markdown",
   "id": "ba7da1e9",
   "metadata": {},
   "source": [
    "<div style=\"text-align: center;\">\n",
    "    <h3><strong>Imports and built-in functions</strong></h3>\n",
    "</div>"
   ]
  },
  {
   "cell_type": "code",
   "execution_count": 1,
   "id": "773c4273",
   "metadata": {},
   "outputs": [],
   "source": [
    "import numpy as np\n",
    "#Import in-built functions for different integration techniques\n",
    "#For reference: https://docs.scipy.org/doc/scipy/reference/integrate.html\n",
    "from scipy.integrate import quad, fixed_quad, romberg, dblquad\n",
    "#For plotting\n",
    "import matplotlib.pyplot as plt\n",
    "%matplotlib inline"
   ]
  },
  {
   "cell_type": "markdown",
   "id": "e67c014c",
   "metadata": {},
   "source": [
    "<div style=\"text-align: center;\">\n",
    "    <h2><strong> Monte Carlo Method v.s. Deterministic Quadrature </strong></h2>\n",
    "</div>\n",
    "\n",
    "In this problem, you will be looking at the difference between various deterministic and non-deterministic methods. Let's consider an ellipsoid parametrized by,\n",
    "$$ \\frac{{x^2+y^2} }{\\beta^2}+\\frac{z^2}{c^2}=1 $$\n",
    "where $-1\\leq x \\leq 1$ and $-1\\leq y \\leq 1$. Let's consider the surface element, \n",
    "$$ A=  \\int_{\\partial V} 1 dA $$\n",
    "\n"
   ]
  },
  {
   "cell_type": "markdown",
   "id": "504af1e3",
   "metadata": {},
   "source": [
    "## A) \n",
    "Write down the explicit integration formula in LaTeX for surface area. Remember to express the integration boundaries, \n",
    "\n",
    "-------------------------write your expression below-----------------------------------------\n",
    "\n",
    "\n",
    "\n",
    "\n",
    "-----------------------------write your expression above-------------------------------------\n",
    "\n",
    "hint: You should be able to express it using a single variable. "
   ]
  },
  {
   "cell_type": "markdown",
   "id": "ec9ac261",
   "metadata": {},
   "source": [
    "## B) \n",
    "Use the above formula approximate the area by using **two** deterministic quadrature techniques: 1) the midpoint rule and 2) Gaussian quadrature (you can use **your code from previous problem set**.) Verify the calculated values with the formulas below, \n",
    "$$A=2\\pi \\beta^2\\left(1+\\frac{c}{a e} \\mathrm{sin^{-1}}(e) \\right), \\hspace{0.2cm} e=1-\\frac{\\beta^2}{c^2}$$\n",
    " \n",
    "You may realize that I did not provide the value of a and c. Plot the error as a heatmap with various $\\beta,c$ values ranging from [0.001,1000]. Does the value of a and c has any influence on the error?\n"
   ]
  },
  {
   "cell_type": "code",
   "execution_count": null,
   "id": "e898a1a0",
   "metadata": {},
   "outputs": [],
   "source": [
    "'''--------------------Write your code below this line------------------------------'''\n",
    "\n",
    "\n",
    "'''--------------------Write your code above this line------------------------------'''"
   ]
  },
  {
   "cell_type": "markdown",
   "id": "e33c4da7",
   "metadata": {},
   "source": [
    "## C) \n",
    "Let's first consider the surface with non-deterministic quadrature techniques (Monte Carlo). As discussed in class, the following simple Monte Carlo simulation can be used to approximate a 2d integral,\n",
    "$$     \\int_a^b f(x) dx =\\lim_{N\\to \\infty} \\frac{b-a}{N} \\sum_{i=0}^N f(x_i), \\hspace{0.2cm} X \\sim U(a,b) $$\n",
    "and we set $2\\beta=c=1$. For each sampling size, N=[10,100,1000,10000,100000], calculate the error, and plot them. \n",
    "\n"
   ]
  },
  {
   "cell_type": "code",
   "execution_count": 9,
   "id": "1a1be68e",
   "metadata": {},
   "outputs": [
    {
     "data": {
      "text/plain": [
       "'--------------------Write your code above this line------------------------------'"
      ]
     },
     "execution_count": 9,
     "metadata": {},
     "output_type": "execute_result"
    }
   ],
   "source": [
    "'''--------------------Write your code below this line------------------------------'''\n",
    "\n",
    "\n",
    "'''--------------------Write your code above this line------------------------------'''"
   ]
  },
  {
   "cell_type": "markdown",
   "id": "bc10a5f2",
   "metadata": {},
   "source": [
    " <div style=\"text-align: center;\">\n",
    "    <h3><strong>Box–Muller transform </strong></h3>\n",
    "</div>\n",
    "\n",
    "Let's take a closer look at a joint probability,\n",
    "$$ p(x,y)=\\frac{1}{2\\pi} e^{-(x^2+y^2)/2}$$\n",
    "and changing from x,y to $\\theta, R$, we have,\n",
    "$$ p(R,\\theta)=p(x,y) \\frac{\\partial |x,y|}{\\partial |\\theta,R|}= \\frac{1}{2\\pi} R e^{-(R^2)/2} $$\n",
    "where $ \\frac{\\partial |x,y|}{\\partial |\\theta,R|}=\\rm det|J|=R$. This is called the Rayleigh distribution, which coincides with the $\\chi$ distribution with two degrees of freedom (DOF). Let's consider two random variables that follow a standard normal distribution, with $X$ and $Y$ denoted as $X, Y \\sim \\mathcal{N}(0, 1)$, representing two components of a vector. The cumulative distribution function (CDF) of the joint probability is given,\n",
    "$$    P(\\sqrt{X^2+Y^2}\\leq R)=\\int_0^{2\\pi} \\int_0^{R} r  \\frac{1}{2\\pi} e^{-r^2/2} dr d\\theta. $$\n",
    "It gives the same PDF as the probability density above. "
   ]
  },
  {
   "cell_type": "markdown",
   "id": "aa5e9cf5",
   "metadata": {},
   "source": [
    "## D) \n",
    "Using the Box–Muller transform, write a python function that generates Gaussian distributed samples (return a numpy array) with mean $\\mu$ and standard deviation $\\sigma$. \n",
    "\n",
    "Plot the histogram with sampling size, N=[10,100,1000,10000,100000].\n",
    "\n"
   ]
  },
  {
   "cell_type": "code",
   "execution_count": null,
   "id": "e8ea1554",
   "metadata": {},
   "outputs": [],
   "source": [
    "'''--------------------Write your code below this line------------------------------'''\n",
    "\n",
    "\n",
    "'''--------------------Write your code above this line------------------------------'''"
   ]
  },
  {
   "cell_type": "markdown",
   "id": "2ad49a62",
   "metadata": {},
   "source": [
    "## E) \n",
    "Do a simple Monte Carlo simulation, this time using different Gaussian-distributed samples as mentioned above, \n",
    "$$     \\int_a^b f(x) dx =\\lim_{N\\to \\infty} \\frac{b-a}{N} \\sum_{i=0}^N f(x_i), \\hspace{0.2cm} X \\sim N(\\mu,\\sigma) $$\n",
    "and we set $2a=c=1$. Let's first assume $\\mu=0$ and $\\sigma=1$. For each sampling size, N=[10,100,1000,10000,100000], calculate the error, and plot them. \n",
    "\n",
    "\n",
    "Next, test various $\\mu$ and $\\sigma$ with a fixed $N=10000$, calculate the error, and plot them. \n",
    "How is it different from C)? \n",
    "\n",
    "\n",
    "\n"
   ]
  },
  {
   "cell_type": "code",
   "execution_count": null,
   "id": "642a1406",
   "metadata": {},
   "outputs": [],
   "source": [
    "'''--------------------Write your code below this line------------------------------'''\n",
    "\n",
    "\n",
    "'''--------------------Write your code above this line------------------------------'''"
   ]
  },
  {
   "cell_type": "markdown",
   "id": "e0216b47",
   "metadata": {},
   "source": [
    " <div style=\"text-align: center;\">\n",
    "    <h2><strong>Rejection Sampling </strong></h2>\n",
    "</div>\n",
    "\n",
    "Rejection sampling is used to generate data points that follow a particular complicated distribution. Let's say that the probability of observing a particle decay event at time t follows the probability density function (PDF),\n",
    "\n",
    "$$p(x)=e^{-bt}cos^2(at), \\hspace{0.2cm} t \\geq 0$$. \n",
    "\n",
    "See below for an example when $a=4b=4$ (If you are interested, you can refer to the lecture notes on the Lorentzian function for energy dissipation). "
   ]
  },
  {
   "cell_type": "code",
   "execution_count": 23,
   "id": "fa566690",
   "metadata": {},
   "outputs": [
    {
     "data": {
      "image/png": "[encoded data removed]",
      "text/plain": [
       "<Figure size 640x480 with 1 Axes>"
      ]
     },
     "metadata": {},
     "output_type": "display_data"
    }
   ],
   "source": [
    "# Example\n",
    "t = np.linspace(0, 6, 100000)\n",
    "y = np.exp(-2*np.sqrt(t))*np.cos(4*t)**2\n",
    "y2 = np.exp(-2*np.sqrt(t)) \n",
    "plt.plot(t, y)\n",
    "plt.plot(t, y2)\n",
    "plt.grid(True)\n",
    "plt.xlim(0, 6)\n",
    "plt.xlabel('$t$')\n",
    "plt.ylabel('$p(t)$') \n",
    "plt.show()"
   ]
  },
  {
   "cell_type": "markdown",
   "id": "31b6c6cf",
   "metadata": {},
   "source": [
    "## A) \n",
    "Write a rejection sampling function by using a **uniform proposal function**, \n",
    "$$f(t) \\sim U(0,t_f)$$\n",
    "to sample the PDF discussed above, with  $a=4b=4$. \n",
    "\n",
    "It should return a N sample numpy array. How do you select the $t_f$? Plot the resulting sample histogram with N=[100,1000,10000]. \n",
    "\n"
   ]
  },
  {
   "cell_type": "code",
   "execution_count": null,
   "id": "c80dd878",
   "metadata": {},
   "outputs": [],
   "source": [
    "'''--------------------Write your code below this line------------------------------'''\n",
    "\n",
    "\n",
    "'''--------------------Write your code above this line------------------------------'''"
   ]
  },
  {
   "cell_type": "markdown",
   "id": "224d60fc",
   "metadata": {},
   "source": [
    "## B) \n",
    "Write a rejection sampling function by using a **exponential proposal function**, \n",
    "$$f(t) \\sim Exp(1)=e^{-2t}$$\n",
    "to sample the PDF discussed above, with the same $a=4b=4$. \n",
    "\n",
    "It should return a N sample numpy array. Plot the resulting sample histogram with N=[100,1000,10000]. Make a comparison between the uniform proposal function and exponential proposal function at various sample sizes. \n"
   ]
  },
  {
   "cell_type": "code",
   "execution_count": null,
   "id": "9b83e842",
   "metadata": {},
   "outputs": [],
   "source": [
    "'''--------------------Write your code below this line------------------------------'''\n",
    "\n",
    "\n",
    "'''--------------------Write your code above this line------------------------------'''"
   ]
  },
  {
   "attachments": {},
   "cell_type": "markdown",
   "id": "94d5d239",
   "metadata": {},
   "source": [
    "<div style=\"text-align: center;\">\n",
    "    <h2><strong> Optimization </strong></h2>\n",
    "</div>\n",
    " \n",
    "<div style=\"text-align: center;\">\n",
    "    <h3><strong>   Gradient descent, Metropolis–Hastings algorithm, Simulated Annealing </strong></h3>\n",
    "</div>\n",
    " \n",
    "\n",
    "Gradient descent is a deterministic method for optimization. It requires the function to be differentiable and\n",
    "convex.  The general formula for gradient descent is as follows:\n",
    "\n",
    "Let $H(\\theta)$ be the cost or loss function, where $\\theta$ represents the model parameters. The goal is to find the optimal $\\theta$ that minimizes $H(\\theta)$.\n",
    "\n",
    "\n",
    "\n",
    "The process of gradient descent involves starting with an initial guess for $\\theta_i$, then iteratively applying the update rule until convergence. Convergence is typically determined by monitoring the change in the cost function or the norm of the gradient.\n",
    "\n",
    "\n",
    "The update rule for gradient descent is as follows:\n",
    "\n",
    "$$\\theta_{i+1} = \\theta_{i} - \\alpha_i \\cdot \\nabla H(\\theta_{i})$$\n",
    "\n",
    "where $\\alpha_i$ The learning rate, which is a hyperparameter that determines the step size of each update. The choice of the learning rate ($\\alpha$) is crucial in gradient descent, as it can affect the algorithm's convergence and stability. It often requires experimentation to find an appropriate learning rate for a specific problem. The gradient ($\\nabla H$) is a vector that contains the partial derivatives of the cost function with respect to each parameter in $\\theta$. It represents the rate of change of the cost function with respect to each parameter and guides the updates.\n",
    "\n"
   ]
  },
  {
   "cell_type": "markdown",
   "id": "d415494e",
   "metadata": {},
   "source": [
    "<div style=\"text-align: center;\">\n",
    "    <h3><strong> $\\phi4$ theory in 1D </strong></h3>\n",
    "</div>\n",
    "\n",
    "Let's say you have a noisy $\\phi4$ theory in 1D, given by,\n",
    "\n",
    "$$H=\\theta^4-8\\theta^2-2cos(4\\pi \\theta),$$\n",
    "\n",
    "where $\\theta$ is an order parameter. You want to find the ground state order parameter and energy (see the figure below). "
   ]
  },
  {
   "cell_type": "code",
   "execution_count": 50,
   "id": "04543a94",
   "metadata": {},
   "outputs": [
    {
     "data": {
      "image/png": "[encoded data removed]",
      "text/plain": [
       "<Figure size 640x480 with 1 Axes>"
      ]
     },
     "metadata": {},
     "output_type": "display_data"
    }
   ],
   "source": [
    "x = np.linspace(-3, 3, 1000)\n",
    "y = x**4-8*x**2 - 2*np.cos(4*np.pi*(x))\n",
    "plt.plot(x, y)\n",
    "plt.grid(True)\n",
    "plt.xlim(-3, 3)\n",
    "plt.xlabel('$x$')\n",
    "plt.ylabel('$f(x)$') \n",
    "plt.show()"
   ]
  },
  {
   "cell_type": "markdown",
   "id": "7f7f8f02",
   "metadata": {},
   "source": [
    "## A) \n",
    "Using the gradient descent method, locate the global minimum starting with three initial guesses $\\theta_0=-1,0.5,3$. For each descent step, plot a **red dot** on the above plot and save it locally until it converges. Make a **video** by processing your saved figures (you may want to look into \"cv2.VideoWriter\"). You should tune the learning parameter at each step! \n",
    "\n",
    "Do you get consistent results? "
   ]
  },
  {
   "cell_type": "code",
   "execution_count": null,
   "id": "4098e53c",
   "metadata": {},
   "outputs": [],
   "source": [
    "\n",
    "\n",
    "'''--------------------Write your code below this line------------------------------'''\n",
    "\n",
    "\n",
    "'''--------------------Write your code above this line------------------------------'''"
   ]
  },
  {
   "cell_type": "markdown",
   "id": "83a7bbdc",
   "metadata": {},
   "source": [
    "<div style=\"text-align: center;\">\n",
    "    <h3><strong> Elementary Hamiltonian Monte Carlo: Metropolis–Hastings algorithm </strong></h3>\n",
    "</div>\n",
    "\n",
    "As we discussed in class, Metropolis–Hastings algorithm is a Monte Carlo method that is used for optimization. In here, we will look at some basics. In Bayesian inference, the posterior can be expressed as Boltzmann factors, \n",
    "\n",
    "$$ P(\\theta)=\\frac{e^{-\\beta H(\\theta)}}{Z},$$\n",
    "\n",
    "where $H$ is Hamiltonian, $\\beta=1/kT$, and Z is the partition function. Let's start with an initial parameter guess $\\theta_0$. Let's randomly move from $\\theta_1 \\to \\theta_0+\\Delta\\theta$, where the step follows a Gaussian $\\Delta \\theta \\sim \\mathcal{N}(0,\\sigma)$ (Markov process). Note, it must be symmetric. Then, the ratio,\n",
    "\n",
    "$$   r=\\frac{e^{-\\beta H(\\theta^*)}}{e^{-\\beta H(\\theta)}}=e^{-\\beta H(\\theta^*)+\\beta H(\\theta)}=e^{-\\beta \\Delta H(\\theta^*,\\theta)}.$$\n",
    "\n",
    "If $r >1$, we accept it and set $\\theta_1 \\to \\theta_0$. On the other hand, $r<1$, we accept it with probability $r$ and set $\\theta_1 \\to \\theta_0$. If rejected, keep $\\theta_0=\\theta_0$. This is an elementary demonstration of the Hamiltonian Monte Carlo (no auxiliary momentum and kinetic energy). \n"
   ]
  },
  {
   "cell_type": "markdown",
   "id": "ff85616b",
   "metadata": {},
   "source": [
    "## B)\n",
    "Use the Metropolis–Hastings algorithm above to estimate the minimum of the noisy $\\phi4$ with initial guesses $\\theta_0=-1,0.5,3$. You should try different $\\beta$. "
   ]
  },
  {
   "cell_type": "code",
   "execution_count": 10,
   "id": "862a3fd2",
   "metadata": {},
   "outputs": [
    {
     "data": {
      "text/plain": [
       "'--------------------Write your code above this line------------------------------'"
      ]
     },
     "execution_count": 10,
     "metadata": {},
     "output_type": "execute_result"
    }
   ],
   "source": [
    "\n",
    "\n",
    "'''--------------------Write your code below this line------------------------------'''\n",
    "\n",
    "\n",
    "'''--------------------Write your code above this line------------------------------'''"
   ]
  },
  {
   "cell_type": "markdown",
   "id": "ca88b0ad",
   "metadata": {},
   "source": [
    "<div style=\"text-align: center;\">\n",
    "    <h3><strong>  Simulated Annealing  </strong></h3>\n",
    "</div>\n",
    "Simulated Annealing is a probabilistic optimization algorithm inspired by the annealing process in metal. The cooling schedule is usually defined as the following,\n",
    "\n",
    "$$ \\beta_{i+1} = \\beta_{i} +\\delta_i,$$\n",
    "\n",
    "where we update the inverse temperature each step. This update will change the Metropolis criterion, \n",
    "\n",
    "$$r_i=e^{-\\beta_i \\Delta H(\\theta^*,\\theta)}> u_i $$\n",
    "\n",
    "where $u_i \\sim U(0,1)$. The cooling schedule is a critical aspect of Simulated Annealing. It determines the rate at which the temperature decreases. \n",
    "\n"
   ]
  },
  {
   "cell_type": "markdown",
   "id": "69b2f897",
   "metadata": {},
   "source": [
    "## C)\n",
    "Add a cooling schedule to the Metropolis–Hastings algorithm above. Then, estimate the minimum of the noisy $\\phi4$ with initial guesses $\\theta_0=-1,0.5,3$. You should try different cooling schedule e.g. $\\delta_i$. Make a graphical comparison of the convergence steps with cooling and without cooling. "
   ]
  },
  {
   "cell_type": "code",
   "execution_count": 40,
   "id": "6c590083",
   "metadata": {},
   "outputs": [
    {
     "data": {
      "text/plain": [
       "'--------------------Write your code above this line------------------------------'"
      ]
     },
     "execution_count": 40,
     "metadata": {},
     "output_type": "execute_result"
    }
   ],
   "source": [
    "\n",
    "\n",
    "'''--------------------Write your code below this line------------------------------'''\n",
    "\n",
    "\n",
    "'''--------------------Write your code above this line------------------------------'''"
   ]
  },
  {
   "cell_type": "code",
   "execution_count": null,
   "id": "60c82ca4",
   "metadata": {},
   "outputs": [],
   "source": []
  }
 ],
 "metadata": {
  "kernelspec": {
   "display_name": "Python 3 (ipykernel)",
   "language": "python",
   "name": "python3"
  },
  "language_info": {
   "codemirror_mode": {
    "name": "ipython",
    "version": 3
   },
   "file_extension": ".py",
   "mimetype": "text/x-python",
   "name": "python",
   "nbconvert_exporter": "python",
   "pygments_lexer": "ipython3",
   "version": "3.11.5"
  }
 },
 "nbformat": 4,
 "nbformat_minor": 5
}
