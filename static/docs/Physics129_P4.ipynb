{
 "cells": [
  {
   "cell_type": "markdown",
   "id": "5b9b50fc",
   "metadata": {},
   "source": [
    "<div style=\"text-align: center;\">\n",
    "    <h1><strong>Physics 129L: Problem Set 4</strong></h1>\n",
    "</div>"
   ]
  },
  {
   "cell_type": "markdown",
   "id": "ff66b63d",
   "metadata": {},
   "source": [
    "<div style=\"text-align: center;\">\n",
    "    <h3><strong>Problem Set Submission Guideline</strong></h3>\n",
    "</div>\n",
    "\n",
    "**A) Github Submissions**\n",
    "We will use GitHub for problem set submissions. To access the problem set, please **fork** and **clone** the **forked** repository to your local virtual machine. **Please complete the problem set in this forked directory.** Submit **a pull request** for merging into the main branch before the problem set due date.\n",
    "\n",
    "**B) .tar.gz File compression and submission on Github**\n",
    "For each problem set, you are asked to submit the compressed version of the problem set to GitHub via git operation. Here is a step-by-step guideline:\n",
    "\n",
    "1. Use the **tar** command to compress the problem set directory into a **single** \".tar.gz\" file.\n",
    "2. Obtain the sha256sum by running \"sha256sum P2.tar.gz\".\n",
    "3. Echo the **full sha256sum** to a text file named \"sha25sum_problem_set.txt\".\n",
    "4. Initialize a git repository named \"Archive_P# (#: problem set number) on your local machine, and move both the \"tar.gz\" file and the \"sha25sum_problem_set.txt\" file to the repository.\n",
    "5. Create an empty **public** directory under the **same name** in **your own GitHub account**.\n",
    "6. **Push** this local repository to the remote repository."
   ]
  },
  {
   "cell_type": "markdown",
   "id": "ef52890b",
   "metadata": {},
   "source": [
    "<div style=\"text-align: center;\">\n",
    "    <h2><strong>Problem 1: Statistical Inference on Biased Coins</strong></h2>\n",
    "</div>\n"
   ]
  },
  {
   "cell_type": "markdown",
   "id": "33bc89c8",
   "metadata": {},
   "source": [
    "Let's consider a problem similar to the one we discussed in class. You are given three datasets, each containing 500 coin-flip outcomes represented as **Boolean** values (True means Head, and False means Tail). In this problem, your task is to investigate potential biases in the coin flips within these datasets. To load the dataset, please use the following code: "
   ]
  },
  {
   "cell_type": "code",
   "execution_count": null,
   "id": "23ed8478",
   "metadata": {},
   "outputs": [],
   "source": [
    "import json \n",
    "# Define the file path for the JSON file\n",
    "json_file_path = 'problem_1/dataset_1.json'\n",
    "\n",
    "# Read the boolean data from the JSON file into a Python list\n",
    "with open(json_file_path, 'r') as json_file:\n",
    "    boolean_list_out = json.load(json_file)"
   ]
  },
  {
   "cell_type": "markdown",
   "id": "d9b83112",
   "metadata": {},
   "source": [
    "<div style=\"text-align: center;\">\n",
    "    <h3><strong> Bayesian Inference </strong></h3>\n",
    "</div>\n",
    "<br>\n",
    "As discussed in class, for a given $p$, the probability that $N=500$ tosses result in $M$ heads and $N-M$ tails is given by the binomial distribution, with the probability mass function, namely the likelyhood function:\n",
    "<br>\n",
    "$$ P(M,N|p) = \\binom{N}{M} p^{M} (1-p)^{N-M}. $$\n",
    "<br>\n",
    "Then the corresponding posterior is given by the Bayes' theorem,\n",
    "$$ P(p|M,N) \\sim \\frac{1}{B(M,N)} P(M,N|p)P(p), $$\n",
    "where,\n",
    "<br>\n",
    "$$ B(M,N) = \\int_0^1 dp\\ p^{M} (1-p)^{N-M} = \\frac{\\Gamma(M+1)\\Gamma(N-M+1)}{\\Gamma(N+2)} .$$\n",
    "<br>\n",
    "Note that the above integral defines the Beta function, expressed in terms of the Gamma function (factorial, $\\Gamma(n+1) = n!$). For more details, please check out https://en.wikipedia.org/wiki/Beta_function). <br>\n",
    "<br>\n"
   ]
  },
  {
   "cell_type": "markdown",
   "id": "9412305d",
   "metadata": {},
   "source": [
    "## A) \n",
    "First, we assume that our initial model for $p$ is a uniform distribution (prior), i.e., $P(p) \\sim 1/N$.\n",
    "<br>\n",
    "\n",
    "With this prior distribution, apply the Bayesian inference methods discussed in class to calculate the likelihood functions for three datasets named 'problem_1/dataset_1.json,' 'problem_1/dataset_2.json,' and 'problem_1/dataset_3.json.' Subsequently, create a (3,1) plot to visualize the corresponding posterior distributions for each dataset. Additionally, numerically calculate the expectation value and variance of each posterior distribution. (hint: look at the stats.ipynb I provided on Canvas)\n",
    "\n"
   ]
  },
  {
   "cell_type": "code",
   "execution_count": null,
   "id": "51067681",
   "metadata": {},
   "outputs": [],
   "source": [
    "import numpy as np\n",
    "import matplotlib.pyplot as plt\n",
    "\n",
    "'''--------------------Write your code below this line------------------------------'''\n",
    "\n",
    "\n",
    "\n",
    "\n",
    "'''--------------------Write your code above this line------------------------------'''\n",
    "\n"
   ]
  },
  {
   "cell_type": "markdown",
   "id": "2c785d50",
   "metadata": {},
   "source": [
    "<div style=\"text-align: center;\">\n",
    "    <h3><strong> Frequentist Inference: Stirling’s approximation </strong></h3>\n",
    "</div>\n",
    "<br>\n",
    "As we discussed in class, the frequentist inference assumes a fixed $p_{\\rm true}$. Maximum Likelihood Estimation (MLE) is a technique used to estimate the parameter $p_{\\rm true}$ of a presumed probability distribution (in this case, binomial) based on observed data. It involves maximizing a likelihood function,\n",
    "<br>\n",
    "$$ P(M,N|p) = \\binom{N}{M} p^{M} (1-p)^{N-M}. $$\n",
    "<br>\n",
    "with the objective of making the observed data most likely under the assumed model. In practice, working with the natural logarithm of the likelihood function $P(M,N|p)$, known as the log-likelihood, is often more convenient,\n",
    "$$\\mathcal{P}(M,N|p)=\\log [P(M,N|p)]=  \\log[\\binom{N}{M}]+ M \\log(p)+({N-M}) \\log(1-p).$$\n",
    "When $N$ is large, we can approximate the factorial by the Stirling’s approximation,\n",
    "<br>\n",
    "$$\\log(n!) \\approx n\\log(n) - n + \\frac{1}{2}\\log(2\\pi n).$$\n",
    "<br>\n"
   ]
  },
  {
   "cell_type": "markdown",
   "id": "e5089a85",
   "metadata": {},
   "source": [
    "## B) \n",
    "Numerically check the Stirling’s approximation by compute both sides of the above equation and make a (2,1) plot that shows the following: 1) for factorial, vary N from 1 to 10 and calculate each value then make a scatter plot. Plot a **smooth curve** that shows the Stirling’s formula (remember, the Stirling’s formula takes real values) and the Gamma function $\\Gamma(N+1)$. 2) plot the difference between the Stirling’s formula and the Gamma function. Please label your plot. "
   ]
  },
  {
   "cell_type": "code",
   "execution_count": null,
   "id": "e62d4e8b",
   "metadata": {},
   "outputs": [],
   "source": [
    "\n",
    "'''--------------------Write your code below this line------------------------------'''\n",
    "\n",
    "\n",
    "\n",
    "'''--------------------Write your code above this line------------------------------'''\n"
   ]
  },
  {
   "cell_type": "markdown",
   "id": "c5a530b1",
   "metadata": {},
   "source": [
    "<div style=\"text-align: center;\">\n",
    "    <h3><strong> Frequentist Inference: Maximum Likelihood Estimation </strong></h3>\n",
    "</div>\n",
    "<br>\n",
    "Maximum Likelihood Estimation is given by the condition,\n",
    "$$\\frac{ \\partial  }{ \\partial  p} \\mathcal{P}(M,N|p)=0.$$\n"
   ]
  },
  {
   "cell_type": "markdown",
   "id": "ba8884fb",
   "metadata": {},
   "source": [
    "## C)\n",
    "Calculate the above condition **analytically**,\n",
    "<br> \n",
    "''**write you answer below**''\n",
    "<br><br> **Steps:** <br>\n",
    "<br>\n",
    "'' **write you answer above**''\n",
    "<br> <br> \n",
    "What is the $p_{\\rm max}$ for the above three datasets? \n",
    "''**write you answer below**''\n",
    "<br>**Data set 1:**<br> **Data set 2:** <br>**Data set 3:**\n",
    "<br>\n",
    "'' **write you answer above**''"
   ]
  },
  {
   "cell_type": "markdown",
   "id": "bcf1cd2f",
   "metadata": {},
   "source": [
    "## D) \n",
    "Using the method discussed in the class to find the maximum likelyhood function **numerically** for all three datasets. Plot three maximum likelyhood functions in three different subplots, and also plot the $p_{\\rm max}$ above. (hint: look at the stats.ipynb). What do you find?"
   ]
  },
  {
   "cell_type": "code",
   "execution_count": 5,
   "id": "8aa14b49",
   "metadata": {},
   "outputs": [
    {
     "data": {
      "text/plain": [
       "'--------------------Write your code above this line------------------------------'"
      ]
     },
     "execution_count": 5,
     "metadata": {},
     "output_type": "execute_result"
    }
   ],
   "source": [
    "\n",
    "\n",
    "'''--------------------Write your code below this line------------------------------'''\n",
    "\n",
    "\n",
    "'''--------------------Write your code above this line------------------------------'''"
   ]
  },
  {
   "attachments": {
    "640px-Illustration_bootstrap.svg.png": {
     "image/png": "[encoded data removed]"
    }
   },
   "cell_type": "markdown",
   "id": "595cfac0",
   "metadata": {},
   "source": [
    "<div style=\"text-align: center;\">\n",
    "    <h3><strong>  Bootstrapping </strong></h3>\n",
    "</div>\n",
    "<br>\n",
    "Bootstrapping belongs to the wider category of resampling methods and involves any test or metric that employs random sampling with replacement, effectively replicating the sampling process (https://en.wikipedia.org/wiki/Bootstrapping_(statistics)),\n",
    "\n",
    "![640px-Illustration_bootstrap.svg.png](attachment:640px-Illustration_bootstrap.svg.png)\n",
    "<br>\n",
    "This process involves a substantial number of iterations, and for each of these bootstrap samples, we compute its expectation value or other statistical properties. The distribution of these expectation values or other statistical properties then provides insights into the characteristics of the underlying distribution. "
   ]
  },
  {
   "cell_type": "markdown",
   "id": "2f8c37c6",
   "metadata": {},
   "source": [
    "## E) \n",
    "Bootstrap three datasets 100 times each with sample sizes of 5, 15, 40, 60, 90, 150, 210, 300, and 400, and create a (3,3) histogram (so there will be a total of three (3,3) histograms). Calculate the expectation value and variance for each and label the subplot title with the sample size. \n",
    "\n"
   ]
  },
  {
   "cell_type": "code",
   "execution_count": null,
   "id": "89346609",
   "metadata": {},
   "outputs": [],
   "source": [
    "'''--------------------Write your code below this line------------------------------'''\n",
    "\n",
    "\n",
    "\n",
    "\n",
    "'''--------------------Write your code above this line------------------------------'''"
   ]
  },
  {
   "cell_type": "markdown",
   "id": "5d54a6a4",
   "metadata": {},
   "source": [
    "## F) \n",
    "Plot the expectation values and variances of the above in comparison with the one you have calculated in **C)**. Are there any difference? and is that what you expected? why? "
   ]
  },
  {
   "cell_type": "code",
   "execution_count": null,
   "id": "ed0dec30",
   "metadata": {},
   "outputs": [],
   "source": [
    "\n",
    "\n",
    "'''--------------------Write your code below this line------------------------------'''\n",
    "\n",
    "\n",
    "\n",
    "\n",
    "'''--------------------Write your code above this line------------------------------'''\n"
   ]
  },
  {
   "cell_type": "markdown",
   "id": "cea5ed49",
   "metadata": {},
   "source": [
    "<div style=\"text-align: center;\">\n",
    "    <h2><strong> Particle Decay </strong></h2>\n",
    "</div>\n",
    "\n",
    "Unstable particles are emitted from a source and undergo decay at a distance $x$, a continuous real number following an exponential probability distribution with a characteristic length $\\lambda$. Decay events can be detected only if they happen within a range extending from $x = 1$ to $x = \\infty$, (a.u.). A total of $N$ decay events are observed at positions {$x_1$, ... , $x_N$}.\n",
    "<br>"
   ]
  },
  {
   "cell_type": "markdown",
   "id": "0ac12123",
   "metadata": {},
   "source": [
    "<div style=\"text-align: center;\">\n",
    "    <h3><strong> Decay Process: Probability density function  </strong></h3>\n",
    "</div>\n",
    "<br>\n",
    "For a given decay parameter, $\\lambda$, the probability of observing a particle at a distance $x$ is given by an exponential function, <br>\n",
    "​\n",
    "\\begin{equation}\n",
    "P(x\\ |\\ \\lambda) = \\frac{1}{ Z(\\lambda)} \\frac{1}{\\lambda}e^{-x/\\lambda}\\ \\ \\ \\ \\ \\ 0 < x < \\infty\n",
    "\\end{equation}\n",
    "​\n",
    "where\n",
    "$$ Z(\\lambda) = \\int_0^\\infty dx \\frac{1}{\\lambda}e^{-x/\\lambda} = e^{-1/\\lambda} . $$"
   ]
  },
  {
   "cell_type": "markdown",
   "id": "76411eb6",
   "metadata": {},
   "source": [
    "## A)\n",
    "Define a particle class that takes a single input, named decay constant. Write the probability density function (given a fixed $\\lambda$) showing above as a method ('pdf_decay') of the class. "
   ]
  },
  {
   "cell_type": "code",
   "execution_count": null,
   "id": "66717342",
   "metadata": {},
   "outputs": [],
   "source": [
    "import numpy as np\n",
    "import matplotlib.pyplot as plt\n",
    "\n",
    "\n",
    "'''--------------------Write your code below this line------------------------------'''\n",
    "\n",
    "class Particle:\n",
    "    def __init__():\n",
    "        pass\n",
    "\n",
    "    def pdf_decay():\n",
    "        pass\n",
    "\n",
    "'''--------------------Write your code above this line------------------------------'''"
   ]
  },
  {
   "cell_type": "markdown",
   "id": "80aaa1d5",
   "metadata": {},
   "source": [
    "## B)\n",
    "Define four particles as class objects with decay constants [0.4,1,2,3]. Plot the pdf curves $P(x\\ |\\ \\lambda) $ and label them (in a single plot). (hint: you may want to define different class methods to output the value). "
   ]
  },
  {
   "cell_type": "code",
   "execution_count": 6,
   "id": "b4981a38",
   "metadata": {},
   "outputs": [
    {
     "data": {
      "text/plain": [
       "'--------------------Write your code above this line------------------------------'"
      ]
     },
     "execution_count": 6,
     "metadata": {},
     "output_type": "execute_result"
    }
   ],
   "source": [
    "\n",
    "\n",
    "'''--------------------Write your code below this line------------------------------'''\n",
    "\n",
    "\n",
    "'''--------------------Write your code above this line------------------------------'''"
   ]
  },
  {
   "cell_type": "markdown",
   "id": "89aa2721",
   "metadata": {},
   "source": [
    "## C)\n",
    "Write the probability density function $P(x\\ |\\ \\lambda) $ (given a fixed position $x$) showing above as a **new method** in the particle class. Define four particles as class objects with fixed positions [2,5,7,10]. Plot the pdf curves and label them (in a single plot)."
   ]
  },
  {
   "cell_type": "code",
   "execution_count": 6,
   "id": "0fea2651",
   "metadata": {},
   "outputs": [
    {
     "data": {
      "text/plain": [
       "'--------------------Write your code above this line------------------------------'"
      ]
     },
     "execution_count": 6,
     "metadata": {},
     "output_type": "execute_result"
    }
   ],
   "source": [
    "\n",
    "'''--------------------Write your code below this line------------------------------'''\n",
    "\n",
    "\n",
    "'''--------------------Write your code above this line------------------------------'''"
   ]
  },
  {
   "cell_type": "markdown",
   "id": "57a4be23",
   "metadata": {},
   "source": [
    "## D)\n",
    "Define a **new method** in the particle class that generate a 3D surface Plot $P(x\\ |\\ \\lambda) $ as a function of $x$ and $\\lambda$. You should create the surface plot in '.png' format, and output the image to a user provided path.\n"
   ]
  },
  {
   "cell_type": "code",
   "execution_count": 7,
   "id": "f21e4106",
   "metadata": {},
   "outputs": [
    {
     "data": {
      "text/plain": [
       "'--------------------Write your code above this line------------------------------'"
      ]
     },
     "execution_count": 7,
     "metadata": {},
     "output_type": "execute_result"
    }
   ],
   "source": [
    "# Import packages for making a 3D plot\n",
    "from mpl_toolkits.mplot3d import Axes3D\n",
    "\n",
    "\n",
    "'''--------------------Write your code below this line------------------------------'''\n",
    "\n",
    "\n",
    "\n",
    "'''--------------------Write your code above this line------------------------------'''"
   ]
  },
  {
   "cell_type": "code",
   "execution_count": null,
   "id": "59ef9a92",
   "metadata": {},
   "outputs": [],
   "source": [
    "import numpy as np\n",
    "import scipy as sp\n",
    "import matplotlib.pyplot as plt\n",
    "\n",
    "\n",
    "'''--------------------Write your code below this line------------------------------'''\n",
    "\n",
    "\n",
    "\n",
    "\n",
    "'''--------------------Write your code above this line------------------------------'''"
   ]
  },
  {
   "attachments": {},
   "cell_type": "markdown",
   "id": "9f86ac15",
   "metadata": {},
   "source": [
    "<div style=\"text-align: center;\">\n",
    "    <h3><strong> Unknown Particle Decay </strong></h3>\n",
    "</div>\n",
    "<br>\n",
    "You are given two datasets that record the decay distances of approximately $10^4$ data points in both a vacuum and an optical cavity. In this question, you are asked to infer the values of the decay constants, $\\lambda$, under both conditions. The measurement files are 'Vacuum_decay_dataset.json' and 'Cavity_decay_dataset.json.' Here are snapshots of the data. \n"
   ]
  },
  {
   "attachments": {
    "download-2.png": {
     "image/png": "[encoded data removed]"
    }
   },
   "cell_type": "markdown",
   "id": "15af158e",
   "metadata": {},
   "source": [
    "\n",
    "\n",
    "![download-2.png](attachment:download-2.png)"
   ]
  },
  {
   "cell_type": "markdown",
   "id": "abe0abe8",
   "metadata": {},
   "source": [
    "## E)\n",
    "ou can observe that the optical cavity modifies a fraction of particles into a different type with distinct decay properties. What are the decay constants in both cases? How can you define the decay constant in the presence of an optical cavity? What additional structures have you observed? Let's assume the second particle type follows a Gaussian probability distribution function:\n",
    "$$\\mathcal{F}(x\\ |\\ \\mu, \\sigma)= \\frac{1}{\\sigma \\sqrt{2\\pi}} e^{-\\frac{(x - \\mu)^2}{2\\sigma^2}}. $$\n",
    "For simplicity, you can consider that the observed decay counts in an optical cavity are proportional to:\n",
    "$\\sim \\mathcal{F}(x\\ |\\ \\mu, \\sigma) +P(x\\ |\\ \\lambda) $. What are the parameters $\\mu, \\sigma, \\lambda$ that best fit the data? Please provide your explanations and any relevant code."
   ]
  },
  {
   "cell_type": "code",
   "execution_count": null,
   "id": "a32d70cc",
   "metadata": {},
   "outputs": [],
   "source": [
    "import numpy as np\n",
    "import scipy as sp\n",
    "import matplotlib.pyplot as plt\n",
    "\n",
    "\n",
    "'''--------------------Write your code below this line------------------------------'''\n",
    "\n",
    "\n",
    "\n",
    "\n",
    "\n",
    "'''--------------------Write your code above this line------------------------------'''"
   ]
  },
  {
   "cell_type": "markdown",
   "id": "fd795334",
   "metadata": {},
   "source": [
    "<div style=\"text-align: center;\">\n",
    "    <h2><strong> Moment Generating Function (MGF)  </strong></h2>\n",
    "</div>\n",
    "\n",
    "The MGF of a random variable $x$ is denoted as $M(t)$, where $t$ is a real number. It is defined as:\n",
    "$$M(t|\\ \\lambda) \\sim \\int dx e^{t x} P(x\\ |\\ \\lambda). $$ It generates moments by differentiation:\n",
    "$$\\frac{\\partial}{\\partial t} M(t|\\ \\lambda)\\big|_{t=0} \\sim \\int dx \\big( x P(x\\ |\\ \\lambda) \\big) $$\n",
    "The key idea is to take successive derivatives of the MGF with respect to the parameter $t$ and evaluate them at $t = 0$. Each derivative, when evaluated at $t = 0$, corresponds to a specific moment of the random variable. The process is systematic, and it allows you to calculate moments of different orders (mean, variance, skewness, kurtosis, etc.) in a structured way.\n",
    "\n"
   ]
  },
  {
   "cell_type": "markdown",
   "id": "2230fe10",
   "metadata": {},
   "source": [
    "<div style=\"text-align: center;\">\n",
    "    <h3><strong> MGF of the decay process  </strong></h3>\n",
    "</div>\n",
    "\n",
    "Let's recal the probability density function in **Problem 2**,\n",
    "$$P(x\\ |\\ \\lambda) = \\frac{1}{ Z(\\lambda)} \\frac{1}{\\lambda}e^{-x/\\lambda}\\ \\ \\ \\ \\ \\ 0 < x < \\infty\n",
    "$$\n",
    "where\n",
    "$$ Z(\\lambda) = \\int_0^\\infty dx \\frac{1}{\\lambda}e^{-x/\\lambda} = e^{-1/\\lambda} . $$\n",
    "\n"
   ]
  },
  {
   "cell_type": "markdown",
   "id": "73ed3e8d",
   "metadata": {},
   "source": [
    "## A) \n",
    "What is the MGF for the above probability density function? Calculate the above condition **analytically**,\n",
    "<br> \n",
    "''**write you answer below**''\n",
    "<br><br> **Steps:** <br>\n",
    "<br>\n",
    "'' **write you answer above**''\n",
    "<br> <br> "
   ]
  },
  {
   "cell_type": "markdown",
   "id": "49176a8b",
   "metadata": {},
   "source": [
    "## B) \n",
    "Using the above result, calculate the mean and variance **analytically**,\n",
    "<br> \n",
    "''**write you answer below**''\n",
    "<br><br> **Steps:** <br>\n",
    "<br>\n",
    "'' **write you answer above**''\n",
    "<br> <br> "
   ]
  },
  {
   "cell_type": "markdown",
   "id": "0388d36b",
   "metadata": {},
   "source": [
    "## C) \n",
    "**Numerically** evaluate (finite differences) the first-order derivative and the second-order derivative that yield the mean and variance at various $\\lambda$ values. Plot the analytical functions against the numerical results. "
   ]
  },
  {
   "cell_type": "code",
   "execution_count": 1,
   "id": "d6c1e7b2",
   "metadata": {},
   "outputs": [
    {
     "data": {
      "text/plain": [
       "'--------------------Write your code above this line------------------------------'"
      ]
     },
     "execution_count": 1,
     "metadata": {},
     "output_type": "execute_result"
    }
   ],
   "source": [
    "\n",
    "\n",
    "'''--------------------Write your code below this line------------------------------'''\n",
    "\n",
    "\n",
    "\n",
    "\n",
    "\n",
    "'''--------------------Write your code above this line------------------------------'''"
   ]
  },
  {
   "cell_type": "markdown",
   "id": "26eee26d",
   "metadata": {},
   "source": [
    "<div style=\"text-align: center;\">\n",
    "    <h3><strong> MGF of a biased coin  </strong></h3>\n",
    "</div>\n",
    "\n",
    "Let's recal the likelihood function (probability mass function) in **Problem 1** ,\n",
    "<br>\n",
    "$$ P(M,N|p) = \\binom{N}{M} p^{M} (1-p)^{N-M}. $$\n",
    "<br>"
   ]
  },
  {
   "cell_type": "markdown",
   "id": "643f77d0",
   "metadata": {},
   "source": [
    "## D) \n",
    "What is the MGF for the above probability mass function? Calculate the above condition **analytically**,\n",
    "<br> \n",
    "''**write you answer below**''\n",
    "<br><br> **Steps:** <br>\n",
    "<br>\n",
    "'' **write you answer above**''\n",
    "<br> <br> \n",
    "Hint, you should consider the sum,  \n",
    "$$M(t) = \\sum_{x=0}^{n} e^{tx} \\binom{n}{x} p^x (1-p)^{n-x}$$\n",
    "and use the fact,\n",
    "$$(a + b)^n = \\sum_{k=0}^{n} \\binom{n}{k} a^{n-k} b^k$$"
   ]
  },
  {
   "cell_type": "markdown",
   "id": "a124f796",
   "metadata": {},
   "source": [
    "## E) \n",
    "Using the above result, calculate the mean and variance **analytically**,\n",
    "<br> \n",
    "''**write you answer below**''\n",
    "<br><br> **Steps:** <br>\n",
    "<br>\n",
    "'' **write you answer above**''\n",
    "<br> <br> "
   ]
  },
  {
   "cell_type": "markdown",
   "id": "72e2f527",
   "metadata": {},
   "source": [
    "## F) \n",
    "**Numerically** evaluate (finite differences) the first-order derivative and the second-order derivative that yield the mean and variance at various $\\lambda$ values. Plot the analytical functions against the numerical results. "
   ]
  },
  {
   "cell_type": "code",
   "execution_count": 2,
   "id": "00346e27",
   "metadata": {},
   "outputs": [
    {
     "data": {
      "text/plain": [
       "'--------------------Write your code above this line------------------------------'"
      ]
     },
     "execution_count": 2,
     "metadata": {},
     "output_type": "execute_result"
    }
   ],
   "source": [
    "\n",
    "\n",
    "'''--------------------Write your code below this line------------------------------'''\n",
    "\n",
    "\n",
    "\n",
    "\n",
    "\n",
    "'''--------------------Write your code above this line------------------------------'''"
   ]
  }
 ],
 "metadata": {
  "kernelspec": {
   "display_name": "Python 3 (ipykernel)",
   "language": "python",
   "name": "python3"
  },
  "language_info": {
   "codemirror_mode": {
    "name": "ipython",
    "version": 3
   },
   "file_extension": ".py",
   "mimetype": "text/x-python",
   "name": "python",
   "nbconvert_exporter": "python",
   "pygments_lexer": "ipython3",
   "version": "3.11.5"
  }
 },
 "nbformat": 4,
 "nbformat_minor": 5
}
